{
 "cells": [
  {
   "cell_type": "code",
   "execution_count": 1,
   "id": "862ea726",
   "metadata": {},
   "outputs": [
    {
     "data": {
      "text/html": [
       "<div>\n",
       "<style scoped>\n",
       "    .dataframe tbody tr th:only-of-type {\n",
       "        vertical-align: middle;\n",
       "    }\n",
       "\n",
       "    .dataframe tbody tr th {\n",
       "        vertical-align: top;\n",
       "    }\n",
       "\n",
       "    .dataframe thead th {\n",
       "        text-align: right;\n",
       "    }\n",
       "</style>\n",
       "<table border=\"1\" class=\"dataframe\">\n",
       "  <thead>\n",
       "    <tr style=\"text-align: right;\">\n",
       "      <th></th>\n",
       "      <th>age</th>\n",
       "      <th>gender</th>\n",
       "      <th>chest_pain</th>\n",
       "      <th>rest_bps</th>\n",
       "      <th>cholestrol</th>\n",
       "      <th>fasting_blood_sugar</th>\n",
       "      <th>rest_ecg</th>\n",
       "      <th>thalach</th>\n",
       "      <th>exer_angina</th>\n",
       "      <th>old_peak</th>\n",
       "      <th>slope</th>\n",
       "      <th>ca</th>\n",
       "      <th>thalassemia</th>\n",
       "      <th>target</th>\n",
       "    </tr>\n",
       "  </thead>\n",
       "  <tbody>\n",
       "    <tr>\n",
       "      <th>0</th>\n",
       "      <td>63</td>\n",
       "      <td>1</td>\n",
       "      <td>3</td>\n",
       "      <td>145</td>\n",
       "      <td>233</td>\n",
       "      <td>1</td>\n",
       "      <td>0</td>\n",
       "      <td>150</td>\n",
       "      <td>0</td>\n",
       "      <td>2.3</td>\n",
       "      <td>0</td>\n",
       "      <td>0</td>\n",
       "      <td>1</td>\n",
       "      <td>1</td>\n",
       "    </tr>\n",
       "    <tr>\n",
       "      <th>1</th>\n",
       "      <td>37</td>\n",
       "      <td>1</td>\n",
       "      <td>2</td>\n",
       "      <td>130</td>\n",
       "      <td>250</td>\n",
       "      <td>0</td>\n",
       "      <td>1</td>\n",
       "      <td>187</td>\n",
       "      <td>0</td>\n",
       "      <td>3.5</td>\n",
       "      <td>0</td>\n",
       "      <td>0</td>\n",
       "      <td>2</td>\n",
       "      <td>1</td>\n",
       "    </tr>\n",
       "    <tr>\n",
       "      <th>2</th>\n",
       "      <td>41</td>\n",
       "      <td>0</td>\n",
       "      <td>1</td>\n",
       "      <td>130</td>\n",
       "      <td>204</td>\n",
       "      <td>0</td>\n",
       "      <td>0</td>\n",
       "      <td>172</td>\n",
       "      <td>0</td>\n",
       "      <td>1.4</td>\n",
       "      <td>2</td>\n",
       "      <td>0</td>\n",
       "      <td>2</td>\n",
       "      <td>1</td>\n",
       "    </tr>\n",
       "    <tr>\n",
       "      <th>3</th>\n",
       "      <td>56</td>\n",
       "      <td>1</td>\n",
       "      <td>1</td>\n",
       "      <td>120</td>\n",
       "      <td>236</td>\n",
       "      <td>0</td>\n",
       "      <td>1</td>\n",
       "      <td>178</td>\n",
       "      <td>0</td>\n",
       "      <td>0.8</td>\n",
       "      <td>2</td>\n",
       "      <td>0</td>\n",
       "      <td>2</td>\n",
       "      <td>1</td>\n",
       "    </tr>\n",
       "    <tr>\n",
       "      <th>4</th>\n",
       "      <td>57</td>\n",
       "      <td>0</td>\n",
       "      <td>0</td>\n",
       "      <td>120</td>\n",
       "      <td>354</td>\n",
       "      <td>0</td>\n",
       "      <td>1</td>\n",
       "      <td>163</td>\n",
       "      <td>1</td>\n",
       "      <td>0.6</td>\n",
       "      <td>2</td>\n",
       "      <td>0</td>\n",
       "      <td>2</td>\n",
       "      <td>1</td>\n",
       "    </tr>\n",
       "    <tr>\n",
       "      <th>...</th>\n",
       "      <td>...</td>\n",
       "      <td>...</td>\n",
       "      <td>...</td>\n",
       "      <td>...</td>\n",
       "      <td>...</td>\n",
       "      <td>...</td>\n",
       "      <td>...</td>\n",
       "      <td>...</td>\n",
       "      <td>...</td>\n",
       "      <td>...</td>\n",
       "      <td>...</td>\n",
       "      <td>...</td>\n",
       "      <td>...</td>\n",
       "      <td>...</td>\n",
       "    </tr>\n",
       "    <tr>\n",
       "      <th>298</th>\n",
       "      <td>57</td>\n",
       "      <td>0</td>\n",
       "      <td>0</td>\n",
       "      <td>140</td>\n",
       "      <td>241</td>\n",
       "      <td>0</td>\n",
       "      <td>1</td>\n",
       "      <td>123</td>\n",
       "      <td>1</td>\n",
       "      <td>0.2</td>\n",
       "      <td>1</td>\n",
       "      <td>0</td>\n",
       "      <td>3</td>\n",
       "      <td>0</td>\n",
       "    </tr>\n",
       "    <tr>\n",
       "      <th>299</th>\n",
       "      <td>45</td>\n",
       "      <td>1</td>\n",
       "      <td>3</td>\n",
       "      <td>110</td>\n",
       "      <td>264</td>\n",
       "      <td>0</td>\n",
       "      <td>1</td>\n",
       "      <td>132</td>\n",
       "      <td>0</td>\n",
       "      <td>1.2</td>\n",
       "      <td>1</td>\n",
       "      <td>0</td>\n",
       "      <td>3</td>\n",
       "      <td>0</td>\n",
       "    </tr>\n",
       "    <tr>\n",
       "      <th>300</th>\n",
       "      <td>68</td>\n",
       "      <td>1</td>\n",
       "      <td>0</td>\n",
       "      <td>144</td>\n",
       "      <td>193</td>\n",
       "      <td>1</td>\n",
       "      <td>1</td>\n",
       "      <td>141</td>\n",
       "      <td>0</td>\n",
       "      <td>3.4</td>\n",
       "      <td>1</td>\n",
       "      <td>2</td>\n",
       "      <td>3</td>\n",
       "      <td>0</td>\n",
       "    </tr>\n",
       "    <tr>\n",
       "      <th>301</th>\n",
       "      <td>57</td>\n",
       "      <td>1</td>\n",
       "      <td>0</td>\n",
       "      <td>130</td>\n",
       "      <td>131</td>\n",
       "      <td>0</td>\n",
       "      <td>1</td>\n",
       "      <td>115</td>\n",
       "      <td>1</td>\n",
       "      <td>1.2</td>\n",
       "      <td>1</td>\n",
       "      <td>1</td>\n",
       "      <td>3</td>\n",
       "      <td>0</td>\n",
       "    </tr>\n",
       "    <tr>\n",
       "      <th>302</th>\n",
       "      <td>57</td>\n",
       "      <td>0</td>\n",
       "      <td>1</td>\n",
       "      <td>130</td>\n",
       "      <td>236</td>\n",
       "      <td>0</td>\n",
       "      <td>0</td>\n",
       "      <td>174</td>\n",
       "      <td>0</td>\n",
       "      <td>0.0</td>\n",
       "      <td>1</td>\n",
       "      <td>1</td>\n",
       "      <td>2</td>\n",
       "      <td>0</td>\n",
       "    </tr>\n",
       "  </tbody>\n",
       "</table>\n",
       "<p>303 rows × 14 columns</p>\n",
       "</div>"
      ],
      "text/plain": [
       "     age  gender  chest_pain  rest_bps  cholestrol  fasting_blood_sugar  \\\n",
       "0     63       1           3       145         233                    1   \n",
       "1     37       1           2       130         250                    0   \n",
       "2     41       0           1       130         204                    0   \n",
       "3     56       1           1       120         236                    0   \n",
       "4     57       0           0       120         354                    0   \n",
       "..   ...     ...         ...       ...         ...                  ...   \n",
       "298   57       0           0       140         241                    0   \n",
       "299   45       1           3       110         264                    0   \n",
       "300   68       1           0       144         193                    1   \n",
       "301   57       1           0       130         131                    0   \n",
       "302   57       0           1       130         236                    0   \n",
       "\n",
       "     rest_ecg  thalach  exer_angina  old_peak  slope  ca  thalassemia  target  \n",
       "0           0      150            0       2.3      0   0            1       1  \n",
       "1           1      187            0       3.5      0   0            2       1  \n",
       "2           0      172            0       1.4      2   0            2       1  \n",
       "3           1      178            0       0.8      2   0            2       1  \n",
       "4           1      163            1       0.6      2   0            2       1  \n",
       "..        ...      ...          ...       ...    ...  ..          ...     ...  \n",
       "298         1      123            1       0.2      1   0            3       0  \n",
       "299         1      132            0       1.2      1   0            3       0  \n",
       "300         1      141            0       3.4      1   2            3       0  \n",
       "301         1      115            1       1.2      1   1            3       0  \n",
       "302         0      174            0       0.0      1   1            2       0  \n",
       "\n",
       "[303 rows x 14 columns]"
      ]
     },
     "execution_count": 1,
     "metadata": {},
     "output_type": "execute_result"
    }
   ],
   "source": [
    "import pandas as pd\n",
    "import statsmodels.api as sm\n",
    "x=pd.read_csv(\"C:/Users/charumathi/Downloads/HeartDisease.csv\")\n",
    "df=pd.DataFrame(x)\n",
    "df"
   ]
  },
  {
   "cell_type": "code",
   "execution_count": 2,
   "id": "25726f89",
   "metadata": {},
   "outputs": [
    {
     "name": "stdout",
     "output_type": "stream",
     "text": [
      "<class 'pandas.core.frame.DataFrame'>\n",
      "RangeIndex: 303 entries, 0 to 302\n",
      "Data columns (total 14 columns):\n",
      " #   Column               Non-Null Count  Dtype  \n",
      "---  ------               --------------  -----  \n",
      " 0   age                  303 non-null    int64  \n",
      " 1   gender               303 non-null    int64  \n",
      " 2   chest_pain           303 non-null    int64  \n",
      " 3   rest_bps             303 non-null    int64  \n",
      " 4   cholestrol           303 non-null    int64  \n",
      " 5   fasting_blood_sugar  303 non-null    int64  \n",
      " 6   rest_ecg             303 non-null    int64  \n",
      " 7   thalach              303 non-null    int64  \n",
      " 8   exer_angina          303 non-null    int64  \n",
      " 9   old_peak             303 non-null    float64\n",
      " 10  slope                303 non-null    int64  \n",
      " 11  ca                   303 non-null    int64  \n",
      " 12  thalassemia          303 non-null    int64  \n",
      " 13  target               303 non-null    int64  \n",
      "dtypes: float64(1), int64(13)\n",
      "memory usage: 33.3 KB\n"
     ]
    }
   ],
   "source": [
    "df.info()"
   ]
  },
  {
   "cell_type": "code",
   "execution_count": 3,
   "id": "93693d63",
   "metadata": {},
   "outputs": [
    {
     "data": {
      "text/plain": [
       "(303, 14)"
      ]
     },
     "execution_count": 3,
     "metadata": {},
     "output_type": "execute_result"
    }
   ],
   "source": [
    "df.shape"
   ]
  },
  {
   "cell_type": "code",
   "execution_count": 10,
   "id": "8c2c054d",
   "metadata": {},
   "outputs": [
    {
     "data": {
      "text/plain": [
       "age                    0\n",
       "gender                 0\n",
       "chest_pain             0\n",
       "rest_bps               0\n",
       "cholestrol             0\n",
       "fasting_blood_sugar    0\n",
       "rest_ecg               0\n",
       "thalach                0\n",
       "exer_angina            0\n",
       "old_peak               0\n",
       "slope                  0\n",
       "ca                     0\n",
       "thalassemia            0\n",
       "target                 0\n",
       "dtype: int64"
      ]
     },
     "execution_count": 10,
     "metadata": {},
     "output_type": "execute_result"
    }
   ],
   "source": [
    "df.isnull().sum()"
   ]
  },
  {
   "cell_type": "code",
   "execution_count": 130,
   "id": "1ae1a21d",
   "metadata": {},
   "outputs": [
    {
     "data": {
      "text/plain": [
       "(array([143.,   0.,   0.,  50.,   0.,   0.,  87.,   0.,   0.,  23.]),\n",
       " array([0. , 0.3, 0.6, 0.9, 1.2, 1.5, 1.8, 2.1, 2.4, 2.7, 3. ]),\n",
       " <BarContainer object of 10 artists>)"
      ]
     },
     "execution_count": 130,
     "metadata": {},
     "output_type": "execute_result"
    },
    {
     "data": {
      "image/png": "[encoded data removed]",
      "text/plain": [
       "<Figure size 432x288 with 1 Axes>"
      ]
     },
     "metadata": {
      "needs_background": "light"
     },
     "output_type": "display_data"
    }
   ],
   "source": [
    "import matplotlib.pyplot as plt\n",
    "plt.hist(df[\"chest_pain\"])"
   ]
  },
  {
   "cell_type": "code",
   "execution_count": 131,
   "id": "3be6df25",
   "metadata": {},
   "outputs": [
    {
     "data": {
      "text/plain": [
       "<BarContainer object of 303 artists>"
      ]
     },
     "execution_count": 131,
     "metadata": {},
     "output_type": "execute_result"
    },
    {
     "data": {
      "image/png": "[encoded data removed]",
      "text/plain": [
       "<Figure size 432x288 with 1 Axes>"
      ]
     },
     "metadata": {
      "needs_background": "light"
     },
     "output_type": "display_data"
    }
   ],
   "source": [
    "plt.bar(x=df[\"chest_pain\"],height=df[\"cholestrol\"])"
   ]
  },
  {
   "cell_type": "code",
   "execution_count": 132,
   "id": "9f4357d4",
   "metadata": {},
   "outputs": [
    {
     "data": {
      "text/plain": [
       "<matplotlib.collections.PathCollection at 0x1cab0875340>"
      ]
     },
     "execution_count": 132,
     "metadata": {},
     "output_type": "execute_result"
    },
    {
     "data": {
      "image/png": "[encoded data removed]",
      "text/plain": [
       "<Figure size 432x288 with 1 Axes>"
      ]
     },
     "metadata": {
      "needs_background": "light"
     },
     "output_type": "display_data"
    }
   ],
   "source": [
    "plt.scatter(df[\"cholestrol\"],df[\"chest_pain\"])"
   ]
  },
  {
   "cell_type": "code",
   "execution_count": 133,
   "id": "42681a9c",
   "metadata": {},
   "outputs": [
    {
     "data": {
      "text/plain": [
       "<AxesSubplot:xlabel='rest_bps', ylabel='cholestrol'>"
      ]
     },
     "execution_count": 133,
     "metadata": {},
     "output_type": "execute_result"
    },
    {
     "data": {
      "image/png": "[encoded data removed]",
      "text/plain": [
       "<Figure size 432x288 with 1 Axes>"
      ]
     },
     "metadata": {
      "needs_background": "light"
     },
     "output_type": "display_data"
    }
   ],
   "source": [
    "import seaborn as sns\n",
    "sns.boxplot(x=df[\"rest_bps\"],y=df[\"cholestrol\"])"
   ]
  },
  {
   "cell_type": "code",
   "execution_count": 134,
   "id": "6a1735a8",
   "metadata": {},
   "outputs": [
    {
     "data": {
      "text/html": [
       "<style type=\"text/css\">\n",
       "#T_f61a7_row0_col0, #T_f61a7_row1_col1, #T_f61a7_row2_col2, #T_f61a7_row3_col3, #T_f61a7_row4_col4, #T_f61a7_row5_col5, #T_f61a7_row6_col6, #T_f61a7_row7_col7, #T_f61a7_row8_col8, #T_f61a7_row9_col9, #T_f61a7_row10_col10, #T_f61a7_row11_col11, #T_f61a7_row12_col12, #T_f61a7_row13_col13 {\n",
       "  background-color: #b40426;\n",
       "  color: #f1f1f1;\n",
       "}\n",
       "#T_f61a7_row0_col1 {\n",
       "  background-color: #6788ee;\n",
       "  color: #f1f1f1;\n",
       "}\n",
       "#T_f61a7_row0_col2, #T_f61a7_row4_col3, #T_f61a7_row5_col12 {\n",
       "  background-color: #86a9fc;\n",
       "  color: #f1f1f1;\n",
       "}\n",
       "#T_f61a7_row0_col3, #T_f61a7_row5_col9, #T_f61a7_row10_col2, #T_f61a7_row11_col12 {\n",
       "  background-color: #b6cefa;\n",
       "  color: #000000;\n",
       "}\n",
       "#T_f61a7_row0_col4 {\n",
       "  background-color: #adc9fd;\n",
       "  color: #000000;\n",
       "}\n",
       "#T_f61a7_row0_col5 {\n",
       "  background-color: #779af7;\n",
       "  color: #f1f1f1;\n",
       "}\n",
       "#T_f61a7_row0_col6, #T_f61a7_row2_col8 {\n",
       "  background-color: #4358cb;\n",
       "  color: #f1f1f1;\n",
       "}\n",
       "#T_f61a7_row0_col7, #T_f61a7_row1_col4, #T_f61a7_row4_col6, #T_f61a7_row6_col5, #T_f61a7_row7_col0, #T_f61a7_row8_col2, #T_f61a7_row8_col13, #T_f61a7_row9_col10, #T_f61a7_row10_col9, #T_f61a7_row13_col1, #T_f61a7_row13_col3, #T_f61a7_row13_col8, #T_f61a7_row13_col11, #T_f61a7_row13_col12 {\n",
       "  background-color: #3b4cc0;\n",
       "  color: #f1f1f1;\n",
       "}\n",
       "#T_f61a7_row0_col8, #T_f61a7_row5_col0 {\n",
       "  background-color: #b7cff9;\n",
       "  color: #000000;\n",
       "}\n",
       "#T_f61a7_row0_col9, #T_f61a7_row2_col7, #T_f61a7_row12_col9 {\n",
       "  background-color: #dcdddd;\n",
       "  color: #000000;\n",
       "}\n",
       "#T_f61a7_row0_col10 {\n",
       "  background-color: #90b2fe;\n",
       "  color: #000000;\n",
       "}\n",
       "#T_f61a7_row0_col11 {\n",
       "  background-color: #d7dce3;\n",
       "  color: #000000;\n",
       "}\n",
       "#T_f61a7_row0_col12 {\n",
       "  background-color: #a1c0ff;\n",
       "  color: #000000;\n",
       "}\n",
       "#T_f61a7_row0_col13, #T_f61a7_row7_col9 {\n",
       "  background-color: #688aef;\n",
       "  color: #f1f1f1;\n",
       "}\n",
       "#T_f61a7_row1_col0, #T_f61a7_row10_col6 {\n",
       "  background-color: #80a3fa;\n",
       "  color: #f1f1f1;\n",
       "}\n",
       "#T_f61a7_row1_col2, #T_f61a7_row6_col12, #T_f61a7_row12_col4 {\n",
       "  background-color: #8caffe;\n",
       "  color: #000000;\n",
       "}\n",
       "#T_f61a7_row1_col3 {\n",
       "  background-color: #516ddb;\n",
       "  color: #f1f1f1;\n",
       "}\n",
       "#T_f61a7_row1_col5, #T_f61a7_row12_col6 {\n",
       "  background-color: #5f7fe8;\n",
       "  color: #f1f1f1;\n",
       "}\n",
       "#T_f61a7_row1_col6, #T_f61a7_row9_col6 {\n",
       "  background-color: #536edd;\n",
       "  color: #f1f1f1;\n",
       "}\n",
       "#T_f61a7_row1_col7, #T_f61a7_row3_col7, #T_f61a7_row13_col6 {\n",
       "  background-color: #8db0fe;\n",
       "  color: #000000;\n",
       "}\n",
       "#T_f61a7_row1_col8 {\n",
       "  background-color: #c1d4f4;\n",
       "  color: #000000;\n",
       "}\n",
       "#T_f61a7_row1_col9 {\n",
       "  background-color: #c9d7f0;\n",
       "  color: #000000;\n",
       "}\n",
       "#T_f61a7_row1_col10 {\n",
       "  background-color: #aec9fc;\n",
       "  color: #000000;\n",
       "}\n",
       "#T_f61a7_row1_col11, #T_f61a7_row4_col10, #T_f61a7_row8_col11 {\n",
       "  background-color: #b5cdfa;\n",
       "  color: #000000;\n",
       "}\n",
       "#T_f61a7_row1_col12, #T_f61a7_row9_col12 {\n",
       "  background-color: #c4d5f3;\n",
       "  color: #000000;\n",
       "}\n",
       "#T_f61a7_row1_col13 {\n",
       "  background-color: #5b7ae5;\n",
       "  color: #f1f1f1;\n",
       "}\n",
       "#T_f61a7_row2_col0 {\n",
       "  background-color: #88abfd;\n",
       "  color: #000000;\n",
       "}\n",
       "#T_f61a7_row2_col1, #T_f61a7_row12_col3 {\n",
       "  background-color: #7597f6;\n",
       "  color: #f1f1f1;\n",
       "}\n",
       "#T_f61a7_row2_col3, #T_f61a7_row2_col6, #T_f61a7_row7_col6 {\n",
       "  background-color: #7093f3;\n",
       "  color: #f1f1f1;\n",
       "}\n",
       "#T_f61a7_row2_col4, #T_f61a7_row8_col5 {\n",
       "  background-color: #5977e3;\n",
       "  color: #f1f1f1;\n",
       "}\n",
       "#T_f61a7_row2_col5, #T_f61a7_row10_col0, #T_f61a7_row12_col2 {\n",
       "  background-color: #6f92f3;\n",
       "  color: #f1f1f1;\n",
       "}\n",
       "#T_f61a7_row2_col9 {\n",
       "  background-color: #94b6ff;\n",
       "  color: #000000;\n",
       "}\n",
       "#T_f61a7_row2_col10, #T_f61a7_row9_col11 {\n",
       "  background-color: #cdd9ec;\n",
       "  color: #000000;\n",
       "}\n",
       "#T_f61a7_row2_col11 {\n",
       "  background-color: #6a8bef;\n",
       "  color: #f1f1f1;\n",
       "}\n",
       "#T_f61a7_row2_col12 {\n",
       "  background-color: #6485ec;\n",
       "  color: #f1f1f1;\n",
       "}\n",
       "#T_f61a7_row2_col13 {\n",
       "  background-color: #f2c9b4;\n",
       "  color: #000000;\n",
       "}\n",
       "#T_f61a7_row3_col0 {\n",
       "  background-color: #d9dce1;\n",
       "  color: #000000;\n",
       "}\n",
       "#T_f61a7_row3_col1, #T_f61a7_row6_col1, #T_f61a7_row9_col2 {\n",
       "  background-color: #7295f4;\n",
       "  color: #f1f1f1;\n",
       "}\n",
       "#T_f61a7_row3_col2, #T_f61a7_row6_col7 {\n",
       "  background-color: #a5c3fe;\n",
       "  color: #000000;\n",
       "}\n",
       "#T_f61a7_row3_col4 {\n",
       "  background-color: #93b5fe;\n",
       "  color: #000000;\n",
       "}\n",
       "#T_f61a7_row3_col5 {\n",
       "  background-color: #89acfd;\n",
       "  color: #000000;\n",
       "}\n",
       "#T_f61a7_row3_col6, #T_f61a7_row11_col13 {\n",
       "  background-color: #445acc;\n",
       "  color: #f1f1f1;\n",
       "}\n",
       "#T_f61a7_row3_col8, #T_f61a7_row4_col8, #T_f61a7_row5_col2 {\n",
       "  background-color: #afcafc;\n",
       "  color: #000000;\n",
       "}\n",
       "#T_f61a7_row3_col9 {\n",
       "  background-color: #dadce0;\n",
       "  color: #000000;\n",
       "}\n",
       "#T_f61a7_row3_col10 {\n",
       "  background-color: #9bbcff;\n",
       "  color: #000000;\n",
       "}\n",
       "#T_f61a7_row3_col11, #T_f61a7_row8_col0 {\n",
       "  background-color: #b1cbfc;\n",
       "  color: #000000;\n",
       "}\n",
       "#T_f61a7_row3_col12 {\n",
       "  background-color: #9fbfff;\n",
       "  color: #000000;\n",
       "}\n",
       "#T_f61a7_row3_col13, #T_f61a7_row6_col0, #T_f61a7_row8_col10 {\n",
       "  background-color: #7b9ff9;\n",
       "  color: #f1f1f1;\n",
       "}\n",
       "#T_f61a7_row4_col0 {\n",
       "  background-color: #ccd9ed;\n",
       "  color: #000000;\n",
       "}\n",
       "#T_f61a7_row4_col1, #T_f61a7_row12_col13 {\n",
       "  background-color: #4e68d8;\n",
       "  color: #f1f1f1;\n",
       "}\n",
       "#T_f61a7_row4_col2, #T_f61a7_row6_col11 {\n",
       "  background-color: #85a8fc;\n",
       "  color: #f1f1f1;\n",
       "}\n",
       "#T_f61a7_row4_col5, #T_f61a7_row13_col9 {\n",
       "  background-color: #5673e0;\n",
       "  color: #f1f1f1;\n",
       "}\n",
       "#T_f61a7_row4_col7, #T_f61a7_row5_col7 {\n",
       "  background-color: #97b8ff;\n",
       "  color: #000000;\n",
       "}\n",
       "#T_f61a7_row4_col9, #T_f61a7_row6_col13 {\n",
       "  background-color: #c0d4f5;\n",
       "  color: #000000;\n",
       "}\n",
       "#T_f61a7_row4_col11, #T_f61a7_row12_col0 {\n",
       "  background-color: #aac7fd;\n",
       "  color: #000000;\n",
       "}\n",
       "#T_f61a7_row4_col12, #T_f61a7_row5_col10, #T_f61a7_row6_col9, #T_f61a7_row8_col1 {\n",
       "  background-color: #a9c6fd;\n",
       "  color: #000000;\n",
       "}\n",
       "#T_f61a7_row4_col13 {\n",
       "  background-color: #8badfd;\n",
       "  color: #000000;\n",
       "}\n",
       "#T_f61a7_row5_col1, #T_f61a7_row6_col8 {\n",
       "  background-color: #8fb1fe;\n",
       "  color: #000000;\n",
       "}\n",
       "#T_f61a7_row5_col3, #T_f61a7_row5_col13 {\n",
       "  background-color: #98b9ff;\n",
       "  color: #000000;\n",
       "}\n",
       "#T_f61a7_row5_col4, #T_f61a7_row10_col12 {\n",
       "  background-color: #7396f5;\n",
       "  color: #f1f1f1;\n",
       "}\n",
       "#T_f61a7_row5_col6 {\n",
       "  background-color: #4b64d5;\n",
       "  color: #f1f1f1;\n",
       "}\n",
       "#T_f61a7_row5_col8 {\n",
       "  background-color: #a6c4fe;\n",
       "  color: #000000;\n",
       "}\n",
       "#T_f61a7_row5_col11 {\n",
       "  background-color: #bad0f8;\n",
       "  color: #000000;\n",
       "}\n",
       "#T_f61a7_row6_col2, #T_f61a7_row11_col10 {\n",
       "  background-color: #a3c2fe;\n",
       "  color: #000000;\n",
       "}\n",
       "#T_f61a7_row6_col3 {\n",
       "  background-color: #4257c9;\n",
       "  color: #f1f1f1;\n",
       "}\n",
       "#T_f61a7_row6_col4, #T_f61a7_row7_col8 {\n",
       "  background-color: #465ecf;\n",
       "  color: #f1f1f1;\n",
       "}\n",
       "#T_f61a7_row6_col10 {\n",
       "  background-color: #c7d7f0;\n",
       "  color: #000000;\n",
       "}\n",
       "#T_f61a7_row7_col1, #T_f61a7_row7_col12, #T_f61a7_row8_col3 {\n",
       "  background-color: #7699f6;\n",
       "  color: #f1f1f1;\n",
       "}\n",
       "#T_f61a7_row7_col2 {\n",
       "  background-color: #dbdcde;\n",
       "  color: #000000;\n",
       "}\n",
       "#T_f61a7_row7_col3, #T_f61a7_row9_col5 {\n",
       "  background-color: #5470de;\n",
       "  color: #f1f1f1;\n",
       "}\n",
       "#T_f61a7_row7_col4 {\n",
       "  background-color: #6c8ff1;\n",
       "  color: #f1f1f1;\n",
       "}\n",
       "#T_f61a7_row7_col5, #T_f61a7_row8_col6, #T_f61a7_row11_col6 {\n",
       "  background-color: #4f69d9;\n",
       "  color: #f1f1f1;\n",
       "}\n",
       "#T_f61a7_row7_col10 {\n",
       "  background-color: #f3c8b2;\n",
       "  color: #000000;\n",
       "}\n",
       "#T_f61a7_row7_col11 {\n",
       "  background-color: #6282ea;\n",
       "  color: #f1f1f1;\n",
       "}\n",
       "#T_f61a7_row7_col13, #T_f61a7_row13_col2 {\n",
       "  background-color: #f1ccb8;\n",
       "  color: #000000;\n",
       "}\n",
       "#T_f61a7_row8_col4 {\n",
       "  background-color: #82a6fb;\n",
       "  color: #f1f1f1;\n",
       "}\n",
       "#T_f61a7_row8_col7 {\n",
       "  background-color: #3e51c5;\n",
       "  color: #f1f1f1;\n",
       "}\n",
       "#T_f61a7_row8_col9 {\n",
       "  background-color: #e9d5cb;\n",
       "  color: #000000;\n",
       "}\n",
       "#T_f61a7_row8_col12 {\n",
       "  background-color: #c3d5f4;\n",
       "  color: #000000;\n",
       "}\n",
       "#T_f61a7_row9_col0 {\n",
       "  background-color: #cbd8ee;\n",
       "  color: #000000;\n",
       "}\n",
       "#T_f61a7_row9_col1, #T_f61a7_row9_col3 {\n",
       "  background-color: #9dbdff;\n",
       "  color: #000000;\n",
       "}\n",
       "#T_f61a7_row9_col4 {\n",
       "  background-color: #7ea1fa;\n",
       "  color: #f1f1f1;\n",
       "}\n",
       "#T_f61a7_row9_col7 {\n",
       "  background-color: #455cce;\n",
       "  color: #f1f1f1;\n",
       "}\n",
       "#T_f61a7_row9_col8, #T_f61a7_row11_col9 {\n",
       "  background-color: #dedcdb;\n",
       "  color: #000000;\n",
       "}\n",
       "#T_f61a7_row9_col13 {\n",
       "  background-color: #3c4ec2;\n",
       "  color: #f1f1f1;\n",
       "}\n",
       "#T_f61a7_row10_col1 {\n",
       "  background-color: #7a9df8;\n",
       "  color: #f1f1f1;\n",
       "}\n",
       "#T_f61a7_row10_col3, #T_f61a7_row10_col5 {\n",
       "  background-color: #4055c8;\n",
       "  color: #f1f1f1;\n",
       "}\n",
       "#T_f61a7_row10_col4 {\n",
       "  background-color: #6e90f2;\n",
       "  color: #f1f1f1;\n",
       "}\n",
       "#T_f61a7_row10_col7 {\n",
       "  background-color: #ebd3c6;\n",
       "  color: #000000;\n",
       "}\n",
       "#T_f61a7_row10_col8, #T_f61a7_row13_col0 {\n",
       "  background-color: #6180e9;\n",
       "  color: #f1f1f1;\n",
       "}\n",
       "#T_f61a7_row10_col11, #T_f61a7_row11_col4 {\n",
       "  background-color: #84a7fc;\n",
       "  color: #f1f1f1;\n",
       "}\n",
       "#T_f61a7_row10_col13 {\n",
       "  background-color: #e8d6cc;\n",
       "  color: #000000;\n",
       "}\n",
       "#T_f61a7_row11_col0 {\n",
       "  background-color: #d8dce2;\n",
       "  color: #000000;\n",
       "}\n",
       "#T_f61a7_row11_col1 {\n",
       "  background-color: #a2c1ff;\n",
       "  color: #000000;\n",
       "}\n",
       "#T_f61a7_row11_col2 {\n",
       "  background-color: #6b8df0;\n",
       "  color: #f1f1f1;\n",
       "}\n",
       "#T_f61a7_row11_col3, #T_f61a7_row12_col7 {\n",
       "  background-color: #81a4fb;\n",
       "  color: #f1f1f1;\n",
       "}\n",
       "#T_f61a7_row11_col5 {\n",
       "  background-color: #7da0f9;\n",
       "  color: #f1f1f1;\n",
       "}\n",
       "#T_f61a7_row11_col7 {\n",
       "  background-color: #6384eb;\n",
       "  color: #f1f1f1;\n",
       "}\n",
       "#T_f61a7_row11_col8, #T_f61a7_row12_col1 {\n",
       "  background-color: #bbd1f8;\n",
       "  color: #000000;\n",
       "}\n",
       "#T_f61a7_row12_col5 {\n",
       "  background-color: #4961d2;\n",
       "  color: #f1f1f1;\n",
       "}\n",
       "#T_f61a7_row12_col8 {\n",
       "  background-color: #cedaeb;\n",
       "  color: #000000;\n",
       "}\n",
       "#T_f61a7_row12_col10 {\n",
       "  background-color: #9ebeff;\n",
       "  color: #000000;\n",
       "}\n",
       "#T_f61a7_row12_col11 {\n",
       "  background-color: #bcd2f7;\n",
       "  color: #000000;\n",
       "}\n",
       "#T_f61a7_row13_col4 {\n",
       "  background-color: #5875e1;\n",
       "  color: #f1f1f1;\n",
       "}\n",
       "#T_f61a7_row13_col5 {\n",
       "  background-color: #4a63d3;\n",
       "  color: #f1f1f1;\n",
       "}\n",
       "#T_f61a7_row13_col7 {\n",
       "  background-color: #f0cdbb;\n",
       "  color: #000000;\n",
       "}\n",
       "#T_f61a7_row13_col10 {\n",
       "  background-color: #efcebd;\n",
       "  color: #000000;\n",
       "}\n",
       "</style>\n",
       "<table id=\"T_f61a7_\">\n",
       "  <thead>\n",
       "    <tr>\n",
       "      <th class=\"blank level0\" >&nbsp;</th>\n",
       "      <th class=\"col_heading level0 col0\" >age</th>\n",
       "      <th class=\"col_heading level0 col1\" >gender</th>\n",
       "      <th class=\"col_heading level0 col2\" >chest_pain</th>\n",
       "      <th class=\"col_heading level0 col3\" >rest_bps</th>\n",
       "      <th class=\"col_heading level0 col4\" >cholestrol</th>\n",
       "      <th class=\"col_heading level0 col5\" >fasting_blood_sugar</th>\n",
       "      <th class=\"col_heading level0 col6\" >rest_ecg</th>\n",
       "      <th class=\"col_heading level0 col7\" >thalach</th>\n",
       "      <th class=\"col_heading level0 col8\" >exer_angina</th>\n",
       "      <th class=\"col_heading level0 col9\" >old_peak</th>\n",
       "      <th class=\"col_heading level0 col10\" >slope</th>\n",
       "      <th class=\"col_heading level0 col11\" >ca</th>\n",
       "      <th class=\"col_heading level0 col12\" >thalassemia</th>\n",
       "      <th class=\"col_heading level0 col13\" >target</th>\n",
       "    </tr>\n",
       "  </thead>\n",
       "  <tbody>\n",
       "    <tr>\n",
       "      <th id=\"T_f61a7_level0_row0\" class=\"row_heading level0 row0\" >age</th>\n",
       "      <td id=\"T_f61a7_row0_col0\" class=\"data row0 col0\" >1.000000</td>\n",
       "      <td id=\"T_f61a7_row0_col1\" class=\"data row0 col1\" >-0.098447</td>\n",
       "      <td id=\"T_f61a7_row0_col2\" class=\"data row0 col2\" >-0.068653</td>\n",
       "      <td id=\"T_f61a7_row0_col3\" class=\"data row0 col3\" >0.279351</td>\n",
       "      <td id=\"T_f61a7_row0_col4\" class=\"data row0 col4\" >0.213678</td>\n",
       "      <td id=\"T_f61a7_row0_col5\" class=\"data row0 col5\" >0.121308</td>\n",
       "      <td id=\"T_f61a7_row0_col6\" class=\"data row0 col6\" >-0.116211</td>\n",
       "      <td id=\"T_f61a7_row0_col7\" class=\"data row0 col7\" >-0.398522</td>\n",
       "      <td id=\"T_f61a7_row0_col8\" class=\"data row0 col8\" >0.096801</td>\n",
       "      <td id=\"T_f61a7_row0_col9\" class=\"data row0 col9\" >0.210013</td>\n",
       "      <td id=\"T_f61a7_row0_col10\" class=\"data row0 col10\" >-0.168814</td>\n",
       "      <td id=\"T_f61a7_row0_col11\" class=\"data row0 col11\" >0.276326</td>\n",
       "      <td id=\"T_f61a7_row0_col12\" class=\"data row0 col12\" >0.068001</td>\n",
       "      <td id=\"T_f61a7_row0_col13\" class=\"data row0 col13\" >-0.225439</td>\n",
       "    </tr>\n",
       "    <tr>\n",
       "      <th id=\"T_f61a7_level0_row1\" class=\"row_heading level0 row1\" >gender</th>\n",
       "      <td id=\"T_f61a7_row1_col0\" class=\"data row1 col0\" >-0.098447</td>\n",
       "      <td id=\"T_f61a7_row1_col1\" class=\"data row1 col1\" >1.000000</td>\n",
       "      <td id=\"T_f61a7_row1_col2\" class=\"data row1 col2\" >-0.049353</td>\n",
       "      <td id=\"T_f61a7_row1_col3\" class=\"data row1 col3\" >-0.056769</td>\n",
       "      <td id=\"T_f61a7_row1_col4\" class=\"data row1 col4\" >-0.197912</td>\n",
       "      <td id=\"T_f61a7_row1_col5\" class=\"data row1 col5\" >0.045032</td>\n",
       "      <td id=\"T_f61a7_row1_col6\" class=\"data row1 col6\" >-0.058196</td>\n",
       "      <td id=\"T_f61a7_row1_col7\" class=\"data row1 col7\" >-0.044020</td>\n",
       "      <td id=\"T_f61a7_row1_col8\" class=\"data row1 col8\" >0.141664</td>\n",
       "      <td id=\"T_f61a7_row1_col9\" class=\"data row1 col9\" >0.096093</td>\n",
       "      <td id=\"T_f61a7_row1_col10\" class=\"data row1 col10\" >-0.030711</td>\n",
       "      <td id=\"T_f61a7_row1_col11\" class=\"data row1 col11\" >0.118261</td>\n",
       "      <td id=\"T_f61a7_row1_col12\" class=\"data row1 col12\" >0.210041</td>\n",
       "      <td id=\"T_f61a7_row1_col13\" class=\"data row1 col13\" >-0.280937</td>\n",
       "    </tr>\n",
       "    <tr>\n",
       "      <th id=\"T_f61a7_level0_row2\" class=\"row_heading level0 row2\" >chest_pain</th>\n",
       "      <td id=\"T_f61a7_row2_col0\" class=\"data row2 col0\" >-0.068653</td>\n",
       "      <td id=\"T_f61a7_row2_col1\" class=\"data row2 col1\" >-0.049353</td>\n",
       "      <td id=\"T_f61a7_row2_col2\" class=\"data row2 col2\" >1.000000</td>\n",
       "      <td id=\"T_f61a7_row2_col3\" class=\"data row2 col3\" >0.047608</td>\n",
       "      <td id=\"T_f61a7_row2_col4\" class=\"data row2 col4\" >-0.076904</td>\n",
       "      <td id=\"T_f61a7_row2_col5\" class=\"data row2 col5\" >0.094444</td>\n",
       "      <td id=\"T_f61a7_row2_col6\" class=\"data row2 col6\" >0.044421</td>\n",
       "      <td id=\"T_f61a7_row2_col7\" class=\"data row2 col7\" >0.295762</td>\n",
       "      <td id=\"T_f61a7_row2_col8\" class=\"data row2 col8\" >-0.394280</td>\n",
       "      <td id=\"T_f61a7_row2_col9\" class=\"data row2 col9\" >-0.149230</td>\n",
       "      <td id=\"T_f61a7_row2_col10\" class=\"data row2 col10\" >0.119717</td>\n",
       "      <td id=\"T_f61a7_row2_col11\" class=\"data row2 col11\" >-0.181053</td>\n",
       "      <td id=\"T_f61a7_row2_col12\" class=\"data row2 col12\" >-0.161736</td>\n",
       "      <td id=\"T_f61a7_row2_col13\" class=\"data row2 col13\" >0.433798</td>\n",
       "    </tr>\n",
       "    <tr>\n",
       "      <th id=\"T_f61a7_level0_row3\" class=\"row_heading level0 row3\" >rest_bps</th>\n",
       "      <td id=\"T_f61a7_row3_col0\" class=\"data row3 col0\" >0.279351</td>\n",
       "      <td id=\"T_f61a7_row3_col1\" class=\"data row3 col1\" >-0.056769</td>\n",
       "      <td id=\"T_f61a7_row3_col2\" class=\"data row3 col2\" >0.047608</td>\n",
       "      <td id=\"T_f61a7_row3_col3\" class=\"data row3 col3\" >1.000000</td>\n",
       "      <td id=\"T_f61a7_row3_col4\" class=\"data row3 col4\" >0.123174</td>\n",
       "      <td id=\"T_f61a7_row3_col5\" class=\"data row3 col5\" >0.177531</td>\n",
       "      <td id=\"T_f61a7_row3_col6\" class=\"data row3 col6\" >-0.114103</td>\n",
       "      <td id=\"T_f61a7_row3_col7\" class=\"data row3 col7\" >-0.046698</td>\n",
       "      <td id=\"T_f61a7_row3_col8\" class=\"data row3 col8\" >0.067616</td>\n",
       "      <td id=\"T_f61a7_row3_col9\" class=\"data row3 col9\" >0.193216</td>\n",
       "      <td id=\"T_f61a7_row3_col10\" class=\"data row3 col10\" >-0.121475</td>\n",
       "      <td id=\"T_f61a7_row3_col11\" class=\"data row3 col11\" >0.101389</td>\n",
       "      <td id=\"T_f61a7_row3_col12\" class=\"data row3 col12\" >0.062210</td>\n",
       "      <td id=\"T_f61a7_row3_col13\" class=\"data row3 col13\" >-0.144931</td>\n",
       "    </tr>\n",
       "    <tr>\n",
       "      <th id=\"T_f61a7_level0_row4\" class=\"row_heading level0 row4\" >cholestrol</th>\n",
       "      <td id=\"T_f61a7_row4_col0\" class=\"data row4 col0\" >0.213678</td>\n",
       "      <td id=\"T_f61a7_row4_col1\" class=\"data row4 col1\" >-0.197912</td>\n",
       "      <td id=\"T_f61a7_row4_col2\" class=\"data row4 col2\" >-0.076904</td>\n",
       "      <td id=\"T_f61a7_row4_col3\" class=\"data row4 col3\" >0.123174</td>\n",
       "      <td id=\"T_f61a7_row4_col4\" class=\"data row4 col4\" >1.000000</td>\n",
       "      <td id=\"T_f61a7_row4_col5\" class=\"data row4 col5\" >0.013294</td>\n",
       "      <td id=\"T_f61a7_row4_col6\" class=\"data row4 col6\" >-0.151040</td>\n",
       "      <td id=\"T_f61a7_row4_col7\" class=\"data row4 col7\" >-0.009940</td>\n",
       "      <td id=\"T_f61a7_row4_col8\" class=\"data row4 col8\" >0.067023</td>\n",
       "      <td id=\"T_f61a7_row4_col9\" class=\"data row4 col9\" >0.053952</td>\n",
       "      <td id=\"T_f61a7_row4_col10\" class=\"data row4 col10\" >-0.004038</td>\n",
       "      <td id=\"T_f61a7_row4_col11\" class=\"data row4 col11\" >0.070511</td>\n",
       "      <td id=\"T_f61a7_row4_col12\" class=\"data row4 col12\" >0.098803</td>\n",
       "      <td id=\"T_f61a7_row4_col13\" class=\"data row4 col13\" >-0.085239</td>\n",
       "    </tr>\n",
       "    <tr>\n",
       "      <th id=\"T_f61a7_level0_row5\" class=\"row_heading level0 row5\" >fasting_blood_sugar</th>\n",
       "      <td id=\"T_f61a7_row5_col0\" class=\"data row5 col0\" >0.121308</td>\n",
       "      <td id=\"T_f61a7_row5_col1\" class=\"data row5 col1\" >0.045032</td>\n",
       "      <td id=\"T_f61a7_row5_col2\" class=\"data row5 col2\" >0.094444</td>\n",
       "      <td id=\"T_f61a7_row5_col3\" class=\"data row5 col3\" >0.177531</td>\n",
       "      <td id=\"T_f61a7_row5_col4\" class=\"data row5 col4\" >0.013294</td>\n",
       "      <td id=\"T_f61a7_row5_col5\" class=\"data row5 col5\" >1.000000</td>\n",
       "      <td id=\"T_f61a7_row5_col6\" class=\"data row5 col6\" >-0.084189</td>\n",
       "      <td id=\"T_f61a7_row5_col7\" class=\"data row5 col7\" >-0.008567</td>\n",
       "      <td id=\"T_f61a7_row5_col8\" class=\"data row5 col8\" >0.025665</td>\n",
       "      <td id=\"T_f61a7_row5_col9\" class=\"data row5 col9\" >0.005747</td>\n",
       "      <td id=\"T_f61a7_row5_col10\" class=\"data row5 col10\" >-0.059894</td>\n",
       "      <td id=\"T_f61a7_row5_col11\" class=\"data row5 col11\" >0.137979</td>\n",
       "      <td id=\"T_f61a7_row5_col12\" class=\"data row5 col12\" >-0.032019</td>\n",
       "      <td id=\"T_f61a7_row5_col13\" class=\"data row5 col13\" >-0.028046</td>\n",
       "    </tr>\n",
       "    <tr>\n",
       "      <th id=\"T_f61a7_level0_row6\" class=\"row_heading level0 row6\" >rest_ecg</th>\n",
       "      <td id=\"T_f61a7_row6_col0\" class=\"data row6 col0\" >-0.116211</td>\n",
       "      <td id=\"T_f61a7_row6_col1\" class=\"data row6 col1\" >-0.058196</td>\n",
       "      <td id=\"T_f61a7_row6_col2\" class=\"data row6 col2\" >0.044421</td>\n",
       "      <td id=\"T_f61a7_row6_col3\" class=\"data row6 col3\" >-0.114103</td>\n",
       "      <td id=\"T_f61a7_row6_col4\" class=\"data row6 col4\" >-0.151040</td>\n",
       "      <td id=\"T_f61a7_row6_col5\" class=\"data row6 col5\" >-0.084189</td>\n",
       "      <td id=\"T_f61a7_row6_col6\" class=\"data row6 col6\" >1.000000</td>\n",
       "      <td id=\"T_f61a7_row6_col7\" class=\"data row6 col7\" >0.044123</td>\n",
       "      <td id=\"T_f61a7_row6_col8\" class=\"data row6 col8\" >-0.070733</td>\n",
       "      <td id=\"T_f61a7_row6_col9\" class=\"data row6 col9\" >-0.058770</td>\n",
       "      <td id=\"T_f61a7_row6_col10\" class=\"data row6 col10\" >0.093045</td>\n",
       "      <td id=\"T_f61a7_row6_col11\" class=\"data row6 col11\" >-0.072042</td>\n",
       "      <td id=\"T_f61a7_row6_col12\" class=\"data row6 col12\" >-0.011981</td>\n",
       "      <td id=\"T_f61a7_row6_col13\" class=\"data row6 col13\" >0.137230</td>\n",
       "    </tr>\n",
       "    <tr>\n",
       "      <th id=\"T_f61a7_level0_row7\" class=\"row_heading level0 row7\" >thalach</th>\n",
       "      <td id=\"T_f61a7_row7_col0\" class=\"data row7 col0\" >-0.398522</td>\n",
       "      <td id=\"T_f61a7_row7_col1\" class=\"data row7 col1\" >-0.044020</td>\n",
       "      <td id=\"T_f61a7_row7_col2\" class=\"data row7 col2\" >0.295762</td>\n",
       "      <td id=\"T_f61a7_row7_col3\" class=\"data row7 col3\" >-0.046698</td>\n",
       "      <td id=\"T_f61a7_row7_col4\" class=\"data row7 col4\" >-0.009940</td>\n",
       "      <td id=\"T_f61a7_row7_col5\" class=\"data row7 col5\" >-0.008567</td>\n",
       "      <td id=\"T_f61a7_row7_col6\" class=\"data row7 col6\" >0.044123</td>\n",
       "      <td id=\"T_f61a7_row7_col7\" class=\"data row7 col7\" >1.000000</td>\n",
       "      <td id=\"T_f61a7_row7_col8\" class=\"data row7 col8\" >-0.378812</td>\n",
       "      <td id=\"T_f61a7_row7_col9\" class=\"data row7 col9\" >-0.344187</td>\n",
       "      <td id=\"T_f61a7_row7_col10\" class=\"data row7 col10\" >0.386784</td>\n",
       "      <td id=\"T_f61a7_row7_col11\" class=\"data row7 col11\" >-0.213177</td>\n",
       "      <td id=\"T_f61a7_row7_col12\" class=\"data row7 col12\" >-0.096439</td>\n",
       "      <td id=\"T_f61a7_row7_col13\" class=\"data row7 col13\" >0.421741</td>\n",
       "    </tr>\n",
       "    <tr>\n",
       "      <th id=\"T_f61a7_level0_row8\" class=\"row_heading level0 row8\" >exer_angina</th>\n",
       "      <td id=\"T_f61a7_row8_col0\" class=\"data row8 col0\" >0.096801</td>\n",
       "      <td id=\"T_f61a7_row8_col1\" class=\"data row8 col1\" >0.141664</td>\n",
       "      <td id=\"T_f61a7_row8_col2\" class=\"data row8 col2\" >-0.394280</td>\n",
       "      <td id=\"T_f61a7_row8_col3\" class=\"data row8 col3\" >0.067616</td>\n",
       "      <td id=\"T_f61a7_row8_col4\" class=\"data row8 col4\" >0.067023</td>\n",
       "      <td id=\"T_f61a7_row8_col5\" class=\"data row8 col5\" >0.025665</td>\n",
       "      <td id=\"T_f61a7_row8_col6\" class=\"data row8 col6\" >-0.070733</td>\n",
       "      <td id=\"T_f61a7_row8_col7\" class=\"data row8 col7\" >-0.378812</td>\n",
       "      <td id=\"T_f61a7_row8_col8\" class=\"data row8 col8\" >1.000000</td>\n",
       "      <td id=\"T_f61a7_row8_col9\" class=\"data row8 col9\" >0.288223</td>\n",
       "      <td id=\"T_f61a7_row8_col10\" class=\"data row8 col10\" >-0.257748</td>\n",
       "      <td id=\"T_f61a7_row8_col11\" class=\"data row8 col11\" >0.115739</td>\n",
       "      <td id=\"T_f61a7_row8_col12\" class=\"data row8 col12\" >0.206754</td>\n",
       "      <td id=\"T_f61a7_row8_col13\" class=\"data row8 col13\" >-0.436757</td>\n",
       "    </tr>\n",
       "    <tr>\n",
       "      <th id=\"T_f61a7_level0_row9\" class=\"row_heading level0 row9\" >old_peak</th>\n",
       "      <td id=\"T_f61a7_row9_col0\" class=\"data row9 col0\" >0.210013</td>\n",
       "      <td id=\"T_f61a7_row9_col1\" class=\"data row9 col1\" >0.096093</td>\n",
       "      <td id=\"T_f61a7_row9_col2\" class=\"data row9 col2\" >-0.149230</td>\n",
       "      <td id=\"T_f61a7_row9_col3\" class=\"data row9 col3\" >0.193216</td>\n",
       "      <td id=\"T_f61a7_row9_col4\" class=\"data row9 col4\" >0.053952</td>\n",
       "      <td id=\"T_f61a7_row9_col5\" class=\"data row9 col5\" >0.005747</td>\n",
       "      <td id=\"T_f61a7_row9_col6\" class=\"data row9 col6\" >-0.058770</td>\n",
       "      <td id=\"T_f61a7_row9_col7\" class=\"data row9 col7\" >-0.344187</td>\n",
       "      <td id=\"T_f61a7_row9_col8\" class=\"data row9 col8\" >0.288223</td>\n",
       "      <td id=\"T_f61a7_row9_col9\" class=\"data row9 col9\" >1.000000</td>\n",
       "      <td id=\"T_f61a7_row9_col10\" class=\"data row9 col10\" >-0.577537</td>\n",
       "      <td id=\"T_f61a7_row9_col11\" class=\"data row9 col11\" >0.222682</td>\n",
       "      <td id=\"T_f61a7_row9_col12\" class=\"data row9 col12\" >0.210244</td>\n",
       "      <td id=\"T_f61a7_row9_col13\" class=\"data row9 col13\" >-0.430696</td>\n",
       "    </tr>\n",
       "    <tr>\n",
       "      <th id=\"T_f61a7_level0_row10\" class=\"row_heading level0 row10\" >slope</th>\n",
       "      <td id=\"T_f61a7_row10_col0\" class=\"data row10 col0\" >-0.168814</td>\n",
       "      <td id=\"T_f61a7_row10_col1\" class=\"data row10 col1\" >-0.030711</td>\n",
       "      <td id=\"T_f61a7_row10_col2\" class=\"data row10 col2\" >0.119717</td>\n",
       "      <td id=\"T_f61a7_row10_col3\" class=\"data row10 col3\" >-0.121475</td>\n",
       "      <td id=\"T_f61a7_row10_col4\" class=\"data row10 col4\" >-0.004038</td>\n",
       "      <td id=\"T_f61a7_row10_col5\" class=\"data row10 col5\" >-0.059894</td>\n",
       "      <td id=\"T_f61a7_row10_col6\" class=\"data row10 col6\" >0.093045</td>\n",
       "      <td id=\"T_f61a7_row10_col7\" class=\"data row10 col7\" >0.386784</td>\n",
       "      <td id=\"T_f61a7_row10_col8\" class=\"data row10 col8\" >-0.257748</td>\n",
       "      <td id=\"T_f61a7_row10_col9\" class=\"data row10 col9\" >-0.577537</td>\n",
       "      <td id=\"T_f61a7_row10_col10\" class=\"data row10 col10\" >1.000000</td>\n",
       "      <td id=\"T_f61a7_row10_col11\" class=\"data row10 col11\" >-0.080155</td>\n",
       "      <td id=\"T_f61a7_row10_col12\" class=\"data row10 col12\" >-0.104764</td>\n",
       "      <td id=\"T_f61a7_row10_col13\" class=\"data row10 col13\" >0.345877</td>\n",
       "    </tr>\n",
       "    <tr>\n",
       "      <th id=\"T_f61a7_level0_row11\" class=\"row_heading level0 row11\" >ca</th>\n",
       "      <td id=\"T_f61a7_row11_col0\" class=\"data row11 col0\" >0.276326</td>\n",
       "      <td id=\"T_f61a7_row11_col1\" class=\"data row11 col1\" >0.118261</td>\n",
       "      <td id=\"T_f61a7_row11_col2\" class=\"data row11 col2\" >-0.181053</td>\n",
       "      <td id=\"T_f61a7_row11_col3\" class=\"data row11 col3\" >0.101389</td>\n",
       "      <td id=\"T_f61a7_row11_col4\" class=\"data row11 col4\" >0.070511</td>\n",
       "      <td id=\"T_f61a7_row11_col5\" class=\"data row11 col5\" >0.137979</td>\n",
       "      <td id=\"T_f61a7_row11_col6\" class=\"data row11 col6\" >-0.072042</td>\n",
       "      <td id=\"T_f61a7_row11_col7\" class=\"data row11 col7\" >-0.213177</td>\n",
       "      <td id=\"T_f61a7_row11_col8\" class=\"data row11 col8\" >0.115739</td>\n",
       "      <td id=\"T_f61a7_row11_col9\" class=\"data row11 col9\" >0.222682</td>\n",
       "      <td id=\"T_f61a7_row11_col10\" class=\"data row11 col10\" >-0.080155</td>\n",
       "      <td id=\"T_f61a7_row11_col11\" class=\"data row11 col11\" >1.000000</td>\n",
       "      <td id=\"T_f61a7_row11_col12\" class=\"data row11 col12\" >0.151832</td>\n",
       "      <td id=\"T_f61a7_row11_col13\" class=\"data row11 col13\" >-0.391724</td>\n",
       "    </tr>\n",
       "    <tr>\n",
       "      <th id=\"T_f61a7_level0_row12\" class=\"row_heading level0 row12\" >thalassemia</th>\n",
       "      <td id=\"T_f61a7_row12_col0\" class=\"data row12 col0\" >0.068001</td>\n",
       "      <td id=\"T_f61a7_row12_col1\" class=\"data row12 col1\" >0.210041</td>\n",
       "      <td id=\"T_f61a7_row12_col2\" class=\"data row12 col2\" >-0.161736</td>\n",
       "      <td id=\"T_f61a7_row12_col3\" class=\"data row12 col3\" >0.062210</td>\n",
       "      <td id=\"T_f61a7_row12_col4\" class=\"data row12 col4\" >0.098803</td>\n",
       "      <td id=\"T_f61a7_row12_col5\" class=\"data row12 col5\" >-0.032019</td>\n",
       "      <td id=\"T_f61a7_row12_col6\" class=\"data row12 col6\" >-0.011981</td>\n",
       "      <td id=\"T_f61a7_row12_col7\" class=\"data row12 col7\" >-0.096439</td>\n",
       "      <td id=\"T_f61a7_row12_col8\" class=\"data row12 col8\" >0.206754</td>\n",
       "      <td id=\"T_f61a7_row12_col9\" class=\"data row12 col9\" >0.210244</td>\n",
       "      <td id=\"T_f61a7_row12_col10\" class=\"data row12 col10\" >-0.104764</td>\n",
       "      <td id=\"T_f61a7_row12_col11\" class=\"data row12 col11\" >0.151832</td>\n",
       "      <td id=\"T_f61a7_row12_col12\" class=\"data row12 col12\" >1.000000</td>\n",
       "      <td id=\"T_f61a7_row12_col13\" class=\"data row12 col13\" >-0.344029</td>\n",
       "    </tr>\n",
       "    <tr>\n",
       "      <th id=\"T_f61a7_level0_row13\" class=\"row_heading level0 row13\" >target</th>\n",
       "      <td id=\"T_f61a7_row13_col0\" class=\"data row13 col0\" >-0.225439</td>\n",
       "      <td id=\"T_f61a7_row13_col1\" class=\"data row13 col1\" >-0.280937</td>\n",
       "      <td id=\"T_f61a7_row13_col2\" class=\"data row13 col2\" >0.433798</td>\n",
       "      <td id=\"T_f61a7_row13_col3\" class=\"data row13 col3\" >-0.144931</td>\n",
       "      <td id=\"T_f61a7_row13_col4\" class=\"data row13 col4\" >-0.085239</td>\n",
       "      <td id=\"T_f61a7_row13_col5\" class=\"data row13 col5\" >-0.028046</td>\n",
       "      <td id=\"T_f61a7_row13_col6\" class=\"data row13 col6\" >0.137230</td>\n",
       "      <td id=\"T_f61a7_row13_col7\" class=\"data row13 col7\" >0.421741</td>\n",
       "      <td id=\"T_f61a7_row13_col8\" class=\"data row13 col8\" >-0.436757</td>\n",
       "      <td id=\"T_f61a7_row13_col9\" class=\"data row13 col9\" >-0.430696</td>\n",
       "      <td id=\"T_f61a7_row13_col10\" class=\"data row13 col10\" >0.345877</td>\n",
       "      <td id=\"T_f61a7_row13_col11\" class=\"data row13 col11\" >-0.391724</td>\n",
       "      <td id=\"T_f61a7_row13_col12\" class=\"data row13 col12\" >-0.344029</td>\n",
       "      <td id=\"T_f61a7_row13_col13\" class=\"data row13 col13\" >1.000000</td>\n",
       "    </tr>\n",
       "  </tbody>\n",
       "</table>\n"
      ],
      "text/plain": [
       "<pandas.io.formats.style.Styler at 0x1cab0ccb280>"
      ]
     },
     "execution_count": 134,
     "metadata": {},
     "output_type": "execute_result"
    }
   ],
   "source": [
    "df.corr().style.background_gradient(cmap=\"coolwarm\")"
   ]
  },
  {
   "cell_type": "code",
   "execution_count": 135,
   "id": "1cf8a4d9",
   "metadata": {},
   "outputs": [],
   "source": [
    "x=df.drop([\"target\",\"fasting_blood_sugar\"],axis=1)\n",
    "y=df.iloc[:,13]"
   ]
  },
  {
   "cell_type": "code",
   "execution_count": 136,
   "id": "7eba1a1d",
   "metadata": {},
   "outputs": [
    {
     "data": {
      "text/plain": [
       "((242, 12), (61, 12), (242,), (61,))"
      ]
     },
     "execution_count": 136,
     "metadata": {},
     "output_type": "execute_result"
    }
   ],
   "source": [
    "from sklearn.model_selection import train_test_split\n",
    "x_train,x_test,y_train,y_test=train_test_split(x,y,test_size=0.2,random_state=0)\n",
    "x_train.shape,x_test.shape,y_train.shape,y_test.shape"
   ]
  },
  {
   "cell_type": "code",
   "execution_count": 137,
   "id": "adcfb8b8",
   "metadata": {},
   "outputs": [
    {
     "data": {
      "text/plain": [
       "DecisionTreeClassifier()"
      ]
     },
     "execution_count": 137,
     "metadata": {},
     "output_type": "execute_result"
    }
   ],
   "source": [
    "#DECISION TREE CLASSIFIER\n",
    "from sklearn.tree import DecisionTreeClassifier\n",
    "model=DecisionTreeClassifier()\n",
    "model.fit(x_train,y_train)"
   ]
  },
  {
   "cell_type": "code",
   "execution_count": 138,
   "id": "845dc6b5",
   "metadata": {},
   "outputs": [
    {
     "name": "stdout",
     "output_type": "stream",
     "text": [
      "[0 1 0 0 0 0 0 0 0 0 0 1 0 1 1 1 0 1 0 1 1 0 0 0 0 1 0 0 1 1 1 0 1 1 1 1 0\n",
      " 1 0 0 1 0 1 0 1 0 1 1 0 1 1 1 1 0 1 0 1 1 1 1 1]\n"
     ]
    }
   ],
   "source": [
    "y_pred=model.predict(x_test)\n",
    "print(y_pred)"
   ]
  },
  {
   "cell_type": "markdown",
   "id": "e79bdec1",
   "metadata": {},
   "source": [
    "### ACCURACY "
   ]
  },
  {
   "cell_type": "code",
   "execution_count": 139,
   "id": "f93a0aa7",
   "metadata": {},
   "outputs": [
    {
     "name": "stdout",
     "output_type": "stream",
     "text": [
      "0.8032786885245902\n"
     ]
    }
   ],
   "source": [
    "#TO FIND PERFORMANCE:\n",
    "from sklearn.metrics import accuracy_score\n",
    "accuracy=accuracy_score(y_test,y_pred)\n",
    "print(accuracy)"
   ]
  },
  {
   "cell_type": "code",
   "execution_count": 140,
   "id": "da822b84",
   "metadata": {},
   "outputs": [
    {
     "data": {
      "text/plain": [
       "array([[22,  7],\n",
       "       [ 5, 27]], dtype=int64)"
      ]
     },
     "execution_count": 140,
     "metadata": {},
     "output_type": "execute_result"
    }
   ],
   "source": [
    "from sklearn.metrics import confusion_matrix\n",
    "confusion_matrix(y_pred,y_test)"
   ]
  },
  {
   "cell_type": "code",
   "execution_count": 141,
   "id": "0b09949c",
   "metadata": {},
   "outputs": [],
   "source": [
    "#LIBRARIES\n",
    "from sklearn import decomposition,datasets\n",
    "from sklearn import tree\n",
    "from sklearn.pipeline import Pipeline\n",
    "from sklearn.model_selection import GridSearchCV,cross_val_score\n",
    "from sklearn.preprocessing import StandardScaler"
   ]
  },
  {
   "cell_type": "code",
   "execution_count": 142,
   "id": "f4ecece9",
   "metadata": {},
   "outputs": [],
   "source": [
    "sc=StandardScaler()"
   ]
  },
  {
   "cell_type": "code",
   "execution_count": 143,
   "id": "5aa6e584",
   "metadata": {},
   "outputs": [],
   "source": [
    "pca=decomposition.PCA()"
   ]
  },
  {
   "cell_type": "code",
   "execution_count": 144,
   "id": "7a4d889b",
   "metadata": {},
   "outputs": [],
   "source": [
    "decisiontree=tree.DecisionTreeClassifier()\n",
    "pipe=Pipeline(steps=[('sc',sc),('pca',pca),('decisiontree',decisiontree)])"
   ]
  },
  {
   "cell_type": "code",
   "execution_count": 145,
   "id": "b9287fcf",
   "metadata": {},
   "outputs": [],
   "source": [
    "n_components=list(range(1,x.shape[1]+1,1))"
   ]
  },
  {
   "cell_type": "code",
   "execution_count": 146,
   "id": "a2539637",
   "metadata": {},
   "outputs": [],
   "source": [
    "criterion=['gini','entropy']\n",
    "max_depth=[4,6,8,12]"
   ]
  },
  {
   "cell_type": "code",
   "execution_count": 147,
   "id": "07fc6a71",
   "metadata": {},
   "outputs": [],
   "source": [
    "parameters=dict(pca__n_components=n_components,decisiontree__criterion=criterion,decisiontree__max_depth=max_depth)"
   ]
  },
  {
   "cell_type": "code",
   "execution_count": 148,
   "id": "8eb615d4",
   "metadata": {},
   "outputs": [
    {
     "data": {
      "text/plain": [
       "GridSearchCV(estimator=Pipeline(steps=[('sc', StandardScaler()), ('pca', PCA()),\n",
       "                                       ('decisiontree',\n",
       "                                        DecisionTreeClassifier())]),\n",
       "             param_grid={'decisiontree__criterion': ['gini', 'entropy'],\n",
       "                         'decisiontree__max_depth': [4, 6, 8, 12],\n",
       "                         'pca__n_components': [1, 2, 3, 4, 5, 6, 7, 8, 9, 10,\n",
       "                                               11, 12]})"
      ]
     },
     "execution_count": 148,
     "metadata": {},
     "output_type": "execute_result"
    }
   ],
   "source": [
    "clf=GridSearchCV(pipe,parameters)\n",
    "clf.fit(x,y)"
   ]
  },
  {
   "cell_type": "code",
   "execution_count": 149,
   "id": "20d05583",
   "metadata": {},
   "outputs": [
    {
     "name": "stdout",
     "output_type": "stream",
     "text": [
      "Best Criterion: entropy\n"
     ]
    }
   ],
   "source": [
    "print('Best Criterion:', clf.best_estimator_.get_params()['decisiontree__criterion'])"
   ]
  },
  {
   "cell_type": "code",
   "execution_count": 150,
   "id": "228f45b9",
   "metadata": {},
   "outputs": [
    {
     "name": "stdout",
     "output_type": "stream",
     "text": [
      "Best max_depth: 4\n"
     ]
    }
   ],
   "source": [
    "print('Best max_depth:', clf.best_estimator_.get_params()['decisiontree__max_depth'])"
   ]
  },
  {
   "cell_type": "code",
   "execution_count": 151,
   "id": "e96daa53",
   "metadata": {},
   "outputs": [
    {
     "name": "stdout",
     "output_type": "stream",
     "text": [
      "Best Number Of Components: 3\n"
     ]
    }
   ],
   "source": [
    "print('Best Number Of Components:',clf.best_estimator_.get_params()['pca__n_components'])"
   ]
  },
  {
   "cell_type": "code",
   "execution_count": 152,
   "id": "2c088bda",
   "metadata": {},
   "outputs": [
    {
     "name": "stdout",
     "output_type": "stream",
     "text": [
      "DecisionTreeClassifier(criterion='entropy', max_depth=4)\n"
     ]
    }
   ],
   "source": [
    "print(clf.best_estimator_.get_params()['decisiontree'])   "
   ]
  },
  {
   "cell_type": "code",
   "execution_count": 153,
   "id": "3dcc1db4",
   "metadata": {},
   "outputs": [],
   "source": [
    "# Use Cross Validation To Evaluate Model\n",
    "CV_Result = cross_val_score(clf, x, y, cv=4, n_jobs=-1)"
   ]
  },
  {
   "cell_type": "code",
   "execution_count": 154,
   "id": "ab84ce3e",
   "metadata": {},
   "outputs": [
    {
     "name": "stdout",
     "output_type": "stream",
     "text": [
      "[0.81578947 0.84210526 0.69736842 0.70666667]\n"
     ]
    }
   ],
   "source": [
    "print(CV_Result)"
   ]
  },
  {
   "cell_type": "code",
   "execution_count": 155,
   "id": "40af009c",
   "metadata": {},
   "outputs": [
    {
     "name": "stdout",
     "output_type": "stream",
     "text": [
      "0.7654824561403508\n"
     ]
    }
   ],
   "source": [
    "print(CV_Result.mean())"
   ]
  },
  {
   "cell_type": "code",
   "execution_count": 156,
   "id": "dae518da",
   "metadata": {},
   "outputs": [
    {
     "name": "stdout",
     "output_type": "stream",
     "text": [
      "0.06422746576961792\n"
     ]
    }
   ],
   "source": [
    "print(CV_Result.std())"
   ]
  },
  {
   "cell_type": "markdown",
   "id": "3b7ee0c8",
   "metadata": {},
   "source": [
    "### BAGGING TECHNIQUE"
   ]
  },
  {
   "cell_type": "code",
   "execution_count": 157,
   "id": "c5d79c84",
   "metadata": {},
   "outputs": [
    {
     "data": {
      "text/plain": [
       "BaggingClassifier(base_estimator=DecisionTreeClassifier(random_state=10))"
      ]
     },
     "execution_count": 157,
     "metadata": {},
     "output_type": "execute_result"
    }
   ],
   "source": [
    "from sklearn.ensemble import BaggingClassifier\n",
    "from sklearn.tree import DecisionTreeClassifier\n",
    "tree=BaggingClassifier(DecisionTreeClassifier(random_state=10))\n",
    "tree.fit(x_train,y_train)"
   ]
  },
  {
   "cell_type": "code",
   "execution_count": 158,
   "id": "0cd8c429",
   "metadata": {},
   "outputs": [],
   "source": [
    "y_pred=ensem.predict(x_test)"
   ]
  },
  {
   "cell_type": "code",
   "execution_count": 159,
   "id": "11092a93",
   "metadata": {},
   "outputs": [
    {
     "name": "stdout",
     "output_type": "stream",
     "text": [
      "0.8564189189189189\n"
     ]
    }
   ],
   "source": [
    "from sklearn import metrics\n",
    "bagging_score=metrics.roc_auc_score(y_pred,y_test)\n",
    "print(bagging_score)"
   ]
  },
  {
   "cell_type": "markdown",
   "id": "dba37fb3",
   "metadata": {},
   "source": [
    "### BOOSTING TECHNIQUE[ADABOOST]"
   ]
  },
  {
   "cell_type": "code",
   "execution_count": 160,
   "id": "187fa541",
   "metadata": {},
   "outputs": [
    {
     "data": {
      "text/plain": [
       "AdaBoostClassifier(random_state=10)"
      ]
     },
     "execution_count": 160,
     "metadata": {},
     "output_type": "execute_result"
    }
   ],
   "source": [
    "from sklearn.ensemble import AdaBoostClassifier\n",
    "# build the model\n",
    "adaboost = AdaBoostClassifier(random_state=10)\n",
    "# fit the model\n",
    "adaboost.fit(x_train, y_train)\n",
    "\n",
    "\n"
   ]
  },
  {
   "cell_type": "code",
   "execution_count": 161,
   "id": "b269a8a9",
   "metadata": {},
   "outputs": [],
   "source": [
    "# predict the values\n",
    "y_pred_adaboost  = adaboost.predict(x_test)"
   ]
  },
  {
   "cell_type": "code",
   "execution_count": 162,
   "id": "a3084924",
   "metadata": {},
   "outputs": [],
   "source": [
    "adaboost_score = metrics.roc_auc_score(y_test, y_pred_adaboost)"
   ]
  },
  {
   "cell_type": "code",
   "execution_count": 164,
   "id": "4258f8ba",
   "metadata": {},
   "outputs": [
    {
     "data": {
      "text/html": [
       "<div>\n",
       "<style scoped>\n",
       "    .dataframe tbody tr th:only-of-type {\n",
       "        vertical-align: middle;\n",
       "    }\n",
       "\n",
       "    .dataframe tbody tr th {\n",
       "        vertical-align: top;\n",
       "    }\n",
       "\n",
       "    .dataframe thead th {\n",
       "        text-align: right;\n",
       "    }\n",
       "</style>\n",
       "<table border=\"1\" class=\"dataframe\">\n",
       "  <thead>\n",
       "    <tr style=\"text-align: right;\">\n",
       "      <th></th>\n",
       "      <th>Model</th>\n",
       "      <th>AUC roc curve</th>\n",
       "    </tr>\n",
       "  </thead>\n",
       "  <tbody>\n",
       "    <tr>\n",
       "      <th>0</th>\n",
       "      <td>accuracy</td>\n",
       "      <td>0.803279</td>\n",
       "    </tr>\n",
       "    <tr>\n",
       "      <th>1</th>\n",
       "      <td>Bagging</td>\n",
       "      <td>0.856419</td>\n",
       "    </tr>\n",
       "    <tr>\n",
       "      <th>2</th>\n",
       "      <td>AdaBoost</td>\n",
       "      <td>0.904139</td>\n",
       "    </tr>\n",
       "  </tbody>\n",
       "</table>\n",
       "</div>"
      ],
      "text/plain": [
       "      Model  AUC roc curve\n",
       "0  accuracy       0.803279\n",
       "1   Bagging       0.856419\n",
       "2  AdaBoost       0.904139"
      ]
     },
     "execution_count": 164,
     "metadata": {},
     "output_type": "execute_result"
    }
   ],
   "source": [
    "df = pd.DataFrame()\n",
    "df['Model'] = ['accuracy','Bagging','AdaBoost']\n",
    "df['AUC roc curve'] = [accuracy,bagging_score,adaboost_score]\n",
    "df"
   ]
  },
  {
   "cell_type": "code",
   "execution_count": 165,
   "id": "5adde021",
   "metadata": {},
   "outputs": [
    {
     "data": {
      "text/plain": [
       "<BarContainer object of 3 artists>"
      ]
     },
     "execution_count": 165,
     "metadata": {},
     "output_type": "execute_result"
    },
    {
     "data": {
      "image/png": "[encoded data removed]",
      "text/plain": [
       "<Figure size 432x288 with 1 Axes>"
      ]
     },
     "metadata": {
      "needs_background": "light"
     },
     "output_type": "display_data"
    }
   ],
   "source": [
    "import matplotlib.pyplot as plt\n",
    "plt.bar(x=df[\"Model\"],height=df[\"AUC roc curve\"])"
   ]
  },
  {
   "cell_type": "code",
   "execution_count": null,
   "id": "db7ee571",
   "metadata": {},
   "outputs": [],
   "source": []
  }
 ],
 "metadata": {
  "kernelspec": {
   "display_name": "Python 3 (ipykernel)",
   "language": "python",
   "name": "python3"
  },
  "language_info": {
   "codemirror_mode": {
    "name": "ipython",
    "version": 3
   },
   "file_extension": ".py",
   "mimetype": "text/x-python",
   "name": "python",
   "nbconvert_exporter": "python",
   "pygments_lexer": "ipython3",
   "version": "3.9.7"
  }
 },
 "nbformat": 4,
 "nbformat_minor": 5
}
